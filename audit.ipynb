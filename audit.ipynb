{
 "cells": [
  {
   "cell_type": "markdown",
   "id": "bdfd78fd",
   "metadata": {},
   "source": [
    "# 1. Load and explore the dataset"
   ]
  },
  {
   "cell_type": "code",
   "execution_count": 234,
   "id": "42047e26",
   "metadata": {},
   "outputs": [],
   "source": [
    "import pandas as pd\n",
    "from statistics import mean, stdev\n",
    "from random import randint\n",
    "\n",
    "import seaborn as sns\n",
    "from sklearn.svm import SVC\n",
    "from sklearn.linear_model import LogisticRegression\n",
    "from sklearn.metrics import accuracy_score,f1_score, precision_score,confusion_matrix, recall_score\n",
    "from sklearn.model_selection import train_test_split\n",
    "from sklearn.preprocessing import StandardScaler \n",
    "from sklearn.model_selection import StratifiedKFold,GridSearchCV, RandomizedSearchCV\n",
    "from sklearn.ensemble import RandomForestClassifier,AdaBoostClassifier, RandomForestRegressor\n",
    "import numpy as np"
   ]
  },
  {
   "cell_type": "code",
   "execution_count": 283,
   "id": "c9bcb446",
   "metadata": {},
   "outputs": [],
   "source": [
    "data=pd.read_csv(r\"C:\\Users\\brian\\Pictures\\audit_data\\audit_risk.csv\")"
   ]
  },
  {
   "cell_type": "code",
   "execution_count": 10,
   "id": "a0b0422c",
   "metadata": {},
   "outputs": [
    {
     "data": {
      "text/html": [
       "<div>\n",
       "<style scoped>\n",
       "    .dataframe tbody tr th:only-of-type {\n",
       "        vertical-align: middle;\n",
       "    }\n",
       "\n",
       "    .dataframe tbody tr th {\n",
       "        vertical-align: top;\n",
       "    }\n",
       "\n",
       "    .dataframe thead th {\n",
       "        text-align: right;\n",
       "    }\n",
       "</style>\n",
       "<table border=\"1\" class=\"dataframe\">\n",
       "  <thead>\n",
       "    <tr style=\"text-align: right;\">\n",
       "      <th></th>\n",
       "      <th>Sector_score</th>\n",
       "      <th>LOCATION_ID</th>\n",
       "      <th>PARA_A</th>\n",
       "      <th>Score_A</th>\n",
       "      <th>Risk_A</th>\n",
       "      <th>PARA_B</th>\n",
       "      <th>Score_B</th>\n",
       "      <th>Risk_B</th>\n",
       "      <th>TOTAL</th>\n",
       "      <th>numbers</th>\n",
       "      <th>...</th>\n",
       "      <th>RiSk_E</th>\n",
       "      <th>History</th>\n",
       "      <th>Prob</th>\n",
       "      <th>Risk_F</th>\n",
       "      <th>Score</th>\n",
       "      <th>Inherent_Risk</th>\n",
       "      <th>CONTROL_RISK</th>\n",
       "      <th>Detection_Risk</th>\n",
       "      <th>Audit_Risk</th>\n",
       "      <th>Risk</th>\n",
       "    </tr>\n",
       "  </thead>\n",
       "  <tbody>\n",
       "    <tr>\n",
       "      <th>0</th>\n",
       "      <td>3.89</td>\n",
       "      <td>23</td>\n",
       "      <td>4.18</td>\n",
       "      <td>0.6</td>\n",
       "      <td>2.508</td>\n",
       "      <td>2.50</td>\n",
       "      <td>0.2</td>\n",
       "      <td>0.500</td>\n",
       "      <td>6.68</td>\n",
       "      <td>5.0</td>\n",
       "      <td>...</td>\n",
       "      <td>0.4</td>\n",
       "      <td>0</td>\n",
       "      <td>0.2</td>\n",
       "      <td>0.0</td>\n",
       "      <td>2.4</td>\n",
       "      <td>8.574</td>\n",
       "      <td>0.4</td>\n",
       "      <td>0.5</td>\n",
       "      <td>1.7148</td>\n",
       "      <td>1</td>\n",
       "    </tr>\n",
       "    <tr>\n",
       "      <th>1</th>\n",
       "      <td>3.89</td>\n",
       "      <td>6</td>\n",
       "      <td>0.00</td>\n",
       "      <td>0.2</td>\n",
       "      <td>0.000</td>\n",
       "      <td>4.83</td>\n",
       "      <td>0.2</td>\n",
       "      <td>0.966</td>\n",
       "      <td>4.83</td>\n",
       "      <td>5.0</td>\n",
       "      <td>...</td>\n",
       "      <td>0.4</td>\n",
       "      <td>0</td>\n",
       "      <td>0.2</td>\n",
       "      <td>0.0</td>\n",
       "      <td>2.0</td>\n",
       "      <td>2.554</td>\n",
       "      <td>0.4</td>\n",
       "      <td>0.5</td>\n",
       "      <td>0.5108</td>\n",
       "      <td>0</td>\n",
       "    </tr>\n",
       "    <tr>\n",
       "      <th>2</th>\n",
       "      <td>3.89</td>\n",
       "      <td>6</td>\n",
       "      <td>0.51</td>\n",
       "      <td>0.2</td>\n",
       "      <td>0.102</td>\n",
       "      <td>0.23</td>\n",
       "      <td>0.2</td>\n",
       "      <td>0.046</td>\n",
       "      <td>0.74</td>\n",
       "      <td>5.0</td>\n",
       "      <td>...</td>\n",
       "      <td>0.4</td>\n",
       "      <td>0</td>\n",
       "      <td>0.2</td>\n",
       "      <td>0.0</td>\n",
       "      <td>2.0</td>\n",
       "      <td>1.548</td>\n",
       "      <td>0.4</td>\n",
       "      <td>0.5</td>\n",
       "      <td>0.3096</td>\n",
       "      <td>0</td>\n",
       "    </tr>\n",
       "    <tr>\n",
       "      <th>3</th>\n",
       "      <td>3.89</td>\n",
       "      <td>6</td>\n",
       "      <td>0.00</td>\n",
       "      <td>0.2</td>\n",
       "      <td>0.000</td>\n",
       "      <td>10.80</td>\n",
       "      <td>0.6</td>\n",
       "      <td>6.480</td>\n",
       "      <td>10.80</td>\n",
       "      <td>6.0</td>\n",
       "      <td>...</td>\n",
       "      <td>0.4</td>\n",
       "      <td>0</td>\n",
       "      <td>0.2</td>\n",
       "      <td>0.0</td>\n",
       "      <td>4.4</td>\n",
       "      <td>17.530</td>\n",
       "      <td>0.4</td>\n",
       "      <td>0.5</td>\n",
       "      <td>3.5060</td>\n",
       "      <td>1</td>\n",
       "    </tr>\n",
       "    <tr>\n",
       "      <th>4</th>\n",
       "      <td>3.89</td>\n",
       "      <td>6</td>\n",
       "      <td>0.00</td>\n",
       "      <td>0.2</td>\n",
       "      <td>0.000</td>\n",
       "      <td>0.08</td>\n",
       "      <td>0.2</td>\n",
       "      <td>0.016</td>\n",
       "      <td>0.08</td>\n",
       "      <td>5.0</td>\n",
       "      <td>...</td>\n",
       "      <td>0.4</td>\n",
       "      <td>0</td>\n",
       "      <td>0.2</td>\n",
       "      <td>0.0</td>\n",
       "      <td>2.0</td>\n",
       "      <td>1.416</td>\n",
       "      <td>0.4</td>\n",
       "      <td>0.5</td>\n",
       "      <td>0.2832</td>\n",
       "      <td>0</td>\n",
       "    </tr>\n",
       "    <tr>\n",
       "      <th>5</th>\n",
       "      <td>3.89</td>\n",
       "      <td>6</td>\n",
       "      <td>0.00</td>\n",
       "      <td>0.2</td>\n",
       "      <td>0.000</td>\n",
       "      <td>0.83</td>\n",
       "      <td>0.2</td>\n",
       "      <td>0.166</td>\n",
       "      <td>0.83</td>\n",
       "      <td>5.0</td>\n",
       "      <td>...</td>\n",
       "      <td>0.4</td>\n",
       "      <td>0</td>\n",
       "      <td>0.2</td>\n",
       "      <td>0.0</td>\n",
       "      <td>2.0</td>\n",
       "      <td>2.156</td>\n",
       "      <td>0.4</td>\n",
       "      <td>0.5</td>\n",
       "      <td>0.4312</td>\n",
       "      <td>0</td>\n",
       "    </tr>\n",
       "    <tr>\n",
       "      <th>6</th>\n",
       "      <td>3.89</td>\n",
       "      <td>7</td>\n",
       "      <td>1.10</td>\n",
       "      <td>0.4</td>\n",
       "      <td>0.440</td>\n",
       "      <td>7.41</td>\n",
       "      <td>0.4</td>\n",
       "      <td>2.964</td>\n",
       "      <td>8.51</td>\n",
       "      <td>5.0</td>\n",
       "      <td>...</td>\n",
       "      <td>0.4</td>\n",
       "      <td>0</td>\n",
       "      <td>0.2</td>\n",
       "      <td>0.0</td>\n",
       "      <td>3.2</td>\n",
       "      <td>31.774</td>\n",
       "      <td>0.4</td>\n",
       "      <td>0.5</td>\n",
       "      <td>6.3548</td>\n",
       "      <td>1</td>\n",
       "    </tr>\n",
       "    <tr>\n",
       "      <th>7</th>\n",
       "      <td>3.89</td>\n",
       "      <td>8</td>\n",
       "      <td>8.50</td>\n",
       "      <td>0.6</td>\n",
       "      <td>5.100</td>\n",
       "      <td>12.03</td>\n",
       "      <td>0.6</td>\n",
       "      <td>7.218</td>\n",
       "      <td>20.53</td>\n",
       "      <td>5.5</td>\n",
       "      <td>...</td>\n",
       "      <td>0.4</td>\n",
       "      <td>0</td>\n",
       "      <td>0.2</td>\n",
       "      <td>0.0</td>\n",
       "      <td>4.2</td>\n",
       "      <td>18.034</td>\n",
       "      <td>0.4</td>\n",
       "      <td>0.5</td>\n",
       "      <td>3.6068</td>\n",
       "      <td>1</td>\n",
       "    </tr>\n",
       "    <tr>\n",
       "      <th>8</th>\n",
       "      <td>3.89</td>\n",
       "      <td>8</td>\n",
       "      <td>8.40</td>\n",
       "      <td>0.6</td>\n",
       "      <td>5.040</td>\n",
       "      <td>11.05</td>\n",
       "      <td>0.6</td>\n",
       "      <td>6.630</td>\n",
       "      <td>19.45</td>\n",
       "      <td>5.5</td>\n",
       "      <td>...</td>\n",
       "      <td>0.4</td>\n",
       "      <td>0</td>\n",
       "      <td>0.2</td>\n",
       "      <td>0.0</td>\n",
       "      <td>4.2</td>\n",
       "      <td>17.206</td>\n",
       "      <td>0.4</td>\n",
       "      <td>0.5</td>\n",
       "      <td>3.4412</td>\n",
       "      <td>1</td>\n",
       "    </tr>\n",
       "    <tr>\n",
       "      <th>9</th>\n",
       "      <td>3.89</td>\n",
       "      <td>8</td>\n",
       "      <td>3.98</td>\n",
       "      <td>0.6</td>\n",
       "      <td>2.388</td>\n",
       "      <td>0.99</td>\n",
       "      <td>0.2</td>\n",
       "      <td>0.198</td>\n",
       "      <td>4.97</td>\n",
       "      <td>5.0</td>\n",
       "      <td>...</td>\n",
       "      <td>0.4</td>\n",
       "      <td>0</td>\n",
       "      <td>0.2</td>\n",
       "      <td>0.0</td>\n",
       "      <td>2.4</td>\n",
       "      <td>4.372</td>\n",
       "      <td>0.4</td>\n",
       "      <td>0.5</td>\n",
       "      <td>0.8744</td>\n",
       "      <td>0</td>\n",
       "    </tr>\n",
       "  </tbody>\n",
       "</table>\n",
       "<p>10 rows × 27 columns</p>\n",
       "</div>"
      ],
      "text/plain": [
       "   Sector_score LOCATION_ID  PARA_A  Score_A  Risk_A  PARA_B  Score_B  Risk_B  \\\n",
       "0          3.89          23    4.18      0.6   2.508    2.50      0.2   0.500   \n",
       "1          3.89           6    0.00      0.2   0.000    4.83      0.2   0.966   \n",
       "2          3.89           6    0.51      0.2   0.102    0.23      0.2   0.046   \n",
       "3          3.89           6    0.00      0.2   0.000   10.80      0.6   6.480   \n",
       "4          3.89           6    0.00      0.2   0.000    0.08      0.2   0.016   \n",
       "5          3.89           6    0.00      0.2   0.000    0.83      0.2   0.166   \n",
       "6          3.89           7    1.10      0.4   0.440    7.41      0.4   2.964   \n",
       "7          3.89           8    8.50      0.6   5.100   12.03      0.6   7.218   \n",
       "8          3.89           8    8.40      0.6   5.040   11.05      0.6   6.630   \n",
       "9          3.89           8    3.98      0.6   2.388    0.99      0.2   0.198   \n",
       "\n",
       "   TOTAL  numbers  ...  RiSk_E  History  Prob  Risk_F  Score  Inherent_Risk  \\\n",
       "0   6.68      5.0  ...     0.4        0   0.2     0.0    2.4          8.574   \n",
       "1   4.83      5.0  ...     0.4        0   0.2     0.0    2.0          2.554   \n",
       "2   0.74      5.0  ...     0.4        0   0.2     0.0    2.0          1.548   \n",
       "3  10.80      6.0  ...     0.4        0   0.2     0.0    4.4         17.530   \n",
       "4   0.08      5.0  ...     0.4        0   0.2     0.0    2.0          1.416   \n",
       "5   0.83      5.0  ...     0.4        0   0.2     0.0    2.0          2.156   \n",
       "6   8.51      5.0  ...     0.4        0   0.2     0.0    3.2         31.774   \n",
       "7  20.53      5.5  ...     0.4        0   0.2     0.0    4.2         18.034   \n",
       "8  19.45      5.5  ...     0.4        0   0.2     0.0    4.2         17.206   \n",
       "9   4.97      5.0  ...     0.4        0   0.2     0.0    2.4          4.372   \n",
       "\n",
       "   CONTROL_RISK  Detection_Risk  Audit_Risk  Risk  \n",
       "0           0.4             0.5      1.7148     1  \n",
       "1           0.4             0.5      0.5108     0  \n",
       "2           0.4             0.5      0.3096     0  \n",
       "3           0.4             0.5      3.5060     1  \n",
       "4           0.4             0.5      0.2832     0  \n",
       "5           0.4             0.5      0.4312     0  \n",
       "6           0.4             0.5      6.3548     1  \n",
       "7           0.4             0.5      3.6068     1  \n",
       "8           0.4             0.5      3.4412     1  \n",
       "9           0.4             0.5      0.8744     0  \n",
       "\n",
       "[10 rows x 27 columns]"
      ]
     },
     "execution_count": 10,
     "metadata": {},
     "output_type": "execute_result"
    }
   ],
   "source": [
    "data.head(10)"
   ]
  },
  {
   "cell_type": "code",
   "execution_count": 11,
   "id": "612a1523",
   "metadata": {},
   "outputs": [
    {
     "data": {
      "text/plain": [
       "39"
      ]
     },
     "execution_count": 11,
     "metadata": {},
     "output_type": "execute_result"
    }
   ],
   "source": [
    "#find percentage of outcomes classified as risky or represented by 1,this enable us to know if the outcome is balanced\n",
    "r=round(sum(data.Risk/len(data.Risk)*100))\n",
    "r"
   ]
  },
  {
   "cell_type": "code",
   "execution_count": 217,
   "id": "b2edbf29",
   "metadata": {},
   "outputs": [
    {
     "data": {
      "text/plain": [
       "<AxesSubplot:xlabel='Risk', ylabel='count'>"
      ]
     },
     "execution_count": 217,
     "metadata": {},
     "output_type": "execute_result"
    },
    {
     "data": {
      "image/png": "[encoded data removed]",
      "text/plain": [
       "<Figure size 432x288 with 1 Axes>"
      ]
     },
     "metadata": {
      "needs_background": "light"
     },
     "output_type": "display_data"
    }
   ],
   "source": [
    "sns.countplot(x=data['Risk'], label = \"Count\") "
   ]
  },
  {
   "cell_type": "markdown",
   "id": "470c7cbd",
   "metadata": {},
   "source": [
    "-Its a classification task \n",
    "\n",
    "-There are two classes,therefore a binary classification\n",
    "\n",
    "-From the above cell we can see that the outcome is not balced,ration is 39/61"
   ]
  },
  {
   "cell_type": "code",
   "execution_count": 284,
   "id": "4d1f200c",
   "metadata": {},
   "outputs": [],
   "source": [
    "data.shape\n",
    "CLS=['LOCATION_ID','TOTAL']\n",
    "data.drop(CLS,axis=1, inplace=True)"
   ]
  },
  {
   "cell_type": "markdown",
   "id": "c16ddf7a",
   "metadata": {},
   "source": [
    "# 2. Create a separate test set"
   ]
  },
  {
   "cell_type": "code",
   "execution_count": 286,
   "id": "bc1bb0b2",
   "metadata": {},
   "outputs": [],
   "source": [
    "y=data['Risk'] \n",
    "X=data.drop('Risk',axis=1) # drop the target\n",
    "X_train,X_test,y_train,y_test = train_test_split(X, y, test_size=0.3, random_state=0,stratify=y)"
   ]
  },
  {
   "cell_type": "code",
   "execution_count": 278,
   "id": "dc166462",
   "metadata": {},
   "outputs": [
    {
     "data": {
      "text/html": [
       "<div>\n",
       "<style scoped>\n",
       "    .dataframe tbody tr th:only-of-type {\n",
       "        vertical-align: middle;\n",
       "    }\n",
       "\n",
       "    .dataframe tbody tr th {\n",
       "        vertical-align: top;\n",
       "    }\n",
       "\n",
       "    .dataframe thead th {\n",
       "        text-align: right;\n",
       "    }\n",
       "</style>\n",
       "<table border=\"1\" class=\"dataframe\">\n",
       "  <thead>\n",
       "    <tr style=\"text-align: right;\">\n",
       "      <th></th>\n",
       "      <th>Sector_score</th>\n",
       "      <th>PARA_A</th>\n",
       "      <th>Score_A</th>\n",
       "      <th>Risk_A</th>\n",
       "      <th>PARA_B</th>\n",
       "      <th>Score_B</th>\n",
       "      <th>Risk_B</th>\n",
       "      <th>numbers</th>\n",
       "      <th>Score_B.1</th>\n",
       "      <th>Risk_C</th>\n",
       "      <th>...</th>\n",
       "      <th>PROB</th>\n",
       "      <th>RiSk_E</th>\n",
       "      <th>History</th>\n",
       "      <th>Prob</th>\n",
       "      <th>Risk_F</th>\n",
       "      <th>Score</th>\n",
       "      <th>Inherent_Risk</th>\n",
       "      <th>CONTROL_RISK</th>\n",
       "      <th>Detection_Risk</th>\n",
       "      <th>Audit_Risk</th>\n",
       "    </tr>\n",
       "  </thead>\n",
       "  <tbody>\n",
       "    <tr>\n",
       "      <th>0</th>\n",
       "      <td>3.89</td>\n",
       "      <td>4.18</td>\n",
       "      <td>0.6</td>\n",
       "      <td>2.508</td>\n",
       "      <td>2.50</td>\n",
       "      <td>0.2</td>\n",
       "      <td>0.500</td>\n",
       "      <td>5.0</td>\n",
       "      <td>0.2</td>\n",
       "      <td>1.0</td>\n",
       "      <td>...</td>\n",
       "      <td>0.2</td>\n",
       "      <td>0.4</td>\n",
       "      <td>0</td>\n",
       "      <td>0.2</td>\n",
       "      <td>0.0</td>\n",
       "      <td>2.4</td>\n",
       "      <td>8.574</td>\n",
       "      <td>0.4</td>\n",
       "      <td>0.5</td>\n",
       "      <td>1.7148</td>\n",
       "    </tr>\n",
       "    <tr>\n",
       "      <th>1</th>\n",
       "      <td>3.89</td>\n",
       "      <td>0.00</td>\n",
       "      <td>0.2</td>\n",
       "      <td>0.000</td>\n",
       "      <td>4.83</td>\n",
       "      <td>0.2</td>\n",
       "      <td>0.966</td>\n",
       "      <td>5.0</td>\n",
       "      <td>0.2</td>\n",
       "      <td>1.0</td>\n",
       "      <td>...</td>\n",
       "      <td>0.2</td>\n",
       "      <td>0.4</td>\n",
       "      <td>0</td>\n",
       "      <td>0.2</td>\n",
       "      <td>0.0</td>\n",
       "      <td>2.0</td>\n",
       "      <td>2.554</td>\n",
       "      <td>0.4</td>\n",
       "      <td>0.5</td>\n",
       "      <td>0.5108</td>\n",
       "    </tr>\n",
       "    <tr>\n",
       "      <th>2</th>\n",
       "      <td>3.89</td>\n",
       "      <td>0.51</td>\n",
       "      <td>0.2</td>\n",
       "      <td>0.102</td>\n",
       "      <td>0.23</td>\n",
       "      <td>0.2</td>\n",
       "      <td>0.046</td>\n",
       "      <td>5.0</td>\n",
       "      <td>0.2</td>\n",
       "      <td>1.0</td>\n",
       "      <td>...</td>\n",
       "      <td>0.2</td>\n",
       "      <td>0.4</td>\n",
       "      <td>0</td>\n",
       "      <td>0.2</td>\n",
       "      <td>0.0</td>\n",
       "      <td>2.0</td>\n",
       "      <td>1.548</td>\n",
       "      <td>0.4</td>\n",
       "      <td>0.5</td>\n",
       "      <td>0.3096</td>\n",
       "    </tr>\n",
       "    <tr>\n",
       "      <th>3</th>\n",
       "      <td>3.89</td>\n",
       "      <td>0.00</td>\n",
       "      <td>0.2</td>\n",
       "      <td>0.000</td>\n",
       "      <td>10.80</td>\n",
       "      <td>0.6</td>\n",
       "      <td>6.480</td>\n",
       "      <td>6.0</td>\n",
       "      <td>0.6</td>\n",
       "      <td>3.6</td>\n",
       "      <td>...</td>\n",
       "      <td>0.2</td>\n",
       "      <td>0.4</td>\n",
       "      <td>0</td>\n",
       "      <td>0.2</td>\n",
       "      <td>0.0</td>\n",
       "      <td>4.4</td>\n",
       "      <td>17.530</td>\n",
       "      <td>0.4</td>\n",
       "      <td>0.5</td>\n",
       "      <td>3.5060</td>\n",
       "    </tr>\n",
       "    <tr>\n",
       "      <th>4</th>\n",
       "      <td>3.89</td>\n",
       "      <td>0.00</td>\n",
       "      <td>0.2</td>\n",
       "      <td>0.000</td>\n",
       "      <td>0.08</td>\n",
       "      <td>0.2</td>\n",
       "      <td>0.016</td>\n",
       "      <td>5.0</td>\n",
       "      <td>0.2</td>\n",
       "      <td>1.0</td>\n",
       "      <td>...</td>\n",
       "      <td>0.2</td>\n",
       "      <td>0.4</td>\n",
       "      <td>0</td>\n",
       "      <td>0.2</td>\n",
       "      <td>0.0</td>\n",
       "      <td>2.0</td>\n",
       "      <td>1.416</td>\n",
       "      <td>0.4</td>\n",
       "      <td>0.5</td>\n",
       "      <td>0.2832</td>\n",
       "    </tr>\n",
       "    <tr>\n",
       "      <th>...</th>\n",
       "      <td>...</td>\n",
       "      <td>...</td>\n",
       "      <td>...</td>\n",
       "      <td>...</td>\n",
       "      <td>...</td>\n",
       "      <td>...</td>\n",
       "      <td>...</td>\n",
       "      <td>...</td>\n",
       "      <td>...</td>\n",
       "      <td>...</td>\n",
       "      <td>...</td>\n",
       "      <td>...</td>\n",
       "      <td>...</td>\n",
       "      <td>...</td>\n",
       "      <td>...</td>\n",
       "      <td>...</td>\n",
       "      <td>...</td>\n",
       "      <td>...</td>\n",
       "      <td>...</td>\n",
       "      <td>...</td>\n",
       "      <td>...</td>\n",
       "    </tr>\n",
       "    <tr>\n",
       "      <th>771</th>\n",
       "      <td>55.57</td>\n",
       "      <td>0.49</td>\n",
       "      <td>0.2</td>\n",
       "      <td>0.098</td>\n",
       "      <td>0.40</td>\n",
       "      <td>0.2</td>\n",
       "      <td>0.080</td>\n",
       "      <td>5.0</td>\n",
       "      <td>0.2</td>\n",
       "      <td>1.0</td>\n",
       "      <td>...</td>\n",
       "      <td>0.2</td>\n",
       "      <td>0.4</td>\n",
       "      <td>0</td>\n",
       "      <td>0.2</td>\n",
       "      <td>0.0</td>\n",
       "      <td>2.0</td>\n",
       "      <td>1.578</td>\n",
       "      <td>0.4</td>\n",
       "      <td>0.5</td>\n",
       "      <td>0.3156</td>\n",
       "    </tr>\n",
       "    <tr>\n",
       "      <th>772</th>\n",
       "      <td>55.57</td>\n",
       "      <td>0.47</td>\n",
       "      <td>0.2</td>\n",
       "      <td>0.094</td>\n",
       "      <td>0.37</td>\n",
       "      <td>0.2</td>\n",
       "      <td>0.074</td>\n",
       "      <td>5.0</td>\n",
       "      <td>0.2</td>\n",
       "      <td>1.0</td>\n",
       "      <td>...</td>\n",
       "      <td>0.2</td>\n",
       "      <td>0.4</td>\n",
       "      <td>0</td>\n",
       "      <td>0.2</td>\n",
       "      <td>0.0</td>\n",
       "      <td>2.0</td>\n",
       "      <td>1.568</td>\n",
       "      <td>0.4</td>\n",
       "      <td>0.5</td>\n",
       "      <td>0.3136</td>\n",
       "    </tr>\n",
       "    <tr>\n",
       "      <th>773</th>\n",
       "      <td>55.57</td>\n",
       "      <td>0.24</td>\n",
       "      <td>0.2</td>\n",
       "      <td>0.048</td>\n",
       "      <td>0.04</td>\n",
       "      <td>0.2</td>\n",
       "      <td>0.008</td>\n",
       "      <td>5.0</td>\n",
       "      <td>0.2</td>\n",
       "      <td>1.0</td>\n",
       "      <td>...</td>\n",
       "      <td>0.2</td>\n",
       "      <td>0.4</td>\n",
       "      <td>0</td>\n",
       "      <td>0.2</td>\n",
       "      <td>0.0</td>\n",
       "      <td>2.0</td>\n",
       "      <td>1.456</td>\n",
       "      <td>0.4</td>\n",
       "      <td>0.5</td>\n",
       "      <td>0.2912</td>\n",
       "    </tr>\n",
       "    <tr>\n",
       "      <th>774</th>\n",
       "      <td>55.57</td>\n",
       "      <td>0.20</td>\n",
       "      <td>0.2</td>\n",
       "      <td>0.040</td>\n",
       "      <td>0.00</td>\n",
       "      <td>0.2</td>\n",
       "      <td>0.000</td>\n",
       "      <td>5.0</td>\n",
       "      <td>0.2</td>\n",
       "      <td>1.0</td>\n",
       "      <td>...</td>\n",
       "      <td>0.2</td>\n",
       "      <td>0.4</td>\n",
       "      <td>0</td>\n",
       "      <td>0.2</td>\n",
       "      <td>0.0</td>\n",
       "      <td>2.0</td>\n",
       "      <td>1.440</td>\n",
       "      <td>0.4</td>\n",
       "      <td>0.5</td>\n",
       "      <td>0.2880</td>\n",
       "    </tr>\n",
       "    <tr>\n",
       "      <th>775</th>\n",
       "      <td>55.57</td>\n",
       "      <td>0.00</td>\n",
       "      <td>0.2</td>\n",
       "      <td>0.000</td>\n",
       "      <td>0.00</td>\n",
       "      <td>0.2</td>\n",
       "      <td>0.000</td>\n",
       "      <td>5.0</td>\n",
       "      <td>0.2</td>\n",
       "      <td>1.0</td>\n",
       "      <td>...</td>\n",
       "      <td>0.2</td>\n",
       "      <td>0.4</td>\n",
       "      <td>0</td>\n",
       "      <td>0.2</td>\n",
       "      <td>0.0</td>\n",
       "      <td>2.0</td>\n",
       "      <td>1.464</td>\n",
       "      <td>0.4</td>\n",
       "      <td>0.5</td>\n",
       "      <td>0.2928</td>\n",
       "    </tr>\n",
       "  </tbody>\n",
       "</table>\n",
       "<p>776 rows × 24 columns</p>\n",
       "</div>"
      ],
      "text/plain": [
       "     Sector_score  PARA_A  Score_A  Risk_A  PARA_B  Score_B  Risk_B  numbers  \\\n",
       "0            3.89    4.18      0.6   2.508    2.50      0.2   0.500      5.0   \n",
       "1            3.89    0.00      0.2   0.000    4.83      0.2   0.966      5.0   \n",
       "2            3.89    0.51      0.2   0.102    0.23      0.2   0.046      5.0   \n",
       "3            3.89    0.00      0.2   0.000   10.80      0.6   6.480      6.0   \n",
       "4            3.89    0.00      0.2   0.000    0.08      0.2   0.016      5.0   \n",
       "..            ...     ...      ...     ...     ...      ...     ...      ...   \n",
       "771         55.57    0.49      0.2   0.098    0.40      0.2   0.080      5.0   \n",
       "772         55.57    0.47      0.2   0.094    0.37      0.2   0.074      5.0   \n",
       "773         55.57    0.24      0.2   0.048    0.04      0.2   0.008      5.0   \n",
       "774         55.57    0.20      0.2   0.040    0.00      0.2   0.000      5.0   \n",
       "775         55.57    0.00      0.2   0.000    0.00      0.2   0.000      5.0   \n",
       "\n",
       "     Score_B.1  Risk_C  ...  PROB  RiSk_E  History  Prob  Risk_F  Score  \\\n",
       "0          0.2     1.0  ...   0.2     0.4        0   0.2     0.0    2.4   \n",
       "1          0.2     1.0  ...   0.2     0.4        0   0.2     0.0    2.0   \n",
       "2          0.2     1.0  ...   0.2     0.4        0   0.2     0.0    2.0   \n",
       "3          0.6     3.6  ...   0.2     0.4        0   0.2     0.0    4.4   \n",
       "4          0.2     1.0  ...   0.2     0.4        0   0.2     0.0    2.0   \n",
       "..         ...     ...  ...   ...     ...      ...   ...     ...    ...   \n",
       "771        0.2     1.0  ...   0.2     0.4        0   0.2     0.0    2.0   \n",
       "772        0.2     1.0  ...   0.2     0.4        0   0.2     0.0    2.0   \n",
       "773        0.2     1.0  ...   0.2     0.4        0   0.2     0.0    2.0   \n",
       "774        0.2     1.0  ...   0.2     0.4        0   0.2     0.0    2.0   \n",
       "775        0.2     1.0  ...   0.2     0.4        0   0.2     0.0    2.0   \n",
       "\n",
       "     Inherent_Risk  CONTROL_RISK  Detection_Risk  Audit_Risk  \n",
       "0            8.574           0.4             0.5      1.7148  \n",
       "1            2.554           0.4             0.5      0.5108  \n",
       "2            1.548           0.4             0.5      0.3096  \n",
       "3           17.530           0.4             0.5      3.5060  \n",
       "4            1.416           0.4             0.5      0.2832  \n",
       "..             ...           ...             ...         ...  \n",
       "771          1.578           0.4             0.5      0.3156  \n",
       "772          1.568           0.4             0.5      0.3136  \n",
       "773          1.456           0.4             0.5      0.2912  \n",
       "774          1.440           0.4             0.5      0.2880  \n",
       "775          1.464           0.4             0.5      0.2928  \n",
       "\n",
       "[776 rows x 24 columns]"
      ]
     },
     "execution_count": 278,
     "metadata": {},
     "output_type": "execute_result"
    }
   ],
   "source": [
    "X"
   ]
  },
  {
   "cell_type": "markdown",
   "id": "1a3514fb",
   "metadata": {},
   "source": [
    "# 3. Clean and preprocess the dataset."
   ]
  },
  {
   "cell_type": "code",
   "execution_count": 279,
   "id": "5ec6d719",
   "metadata": {},
   "outputs": [
    {
     "name": "stdout",
     "output_type": "stream",
     "text": [
      "<class 'pandas.core.frame.DataFrame'>\n",
      "Int64Index: 543 entries, 759 to 748\n",
      "Data columns (total 24 columns):\n",
      " #   Column          Non-Null Count  Dtype  \n",
      "---  ------          --------------  -----  \n",
      " 0   Sector_score    543 non-null    float64\n",
      " 1   PARA_A          543 non-null    float64\n",
      " 2   Score_A         543 non-null    float64\n",
      " 3   Risk_A          543 non-null    float64\n",
      " 4   PARA_B          543 non-null    float64\n",
      " 5   Score_B         543 non-null    float64\n",
      " 6   Risk_B          543 non-null    float64\n",
      " 7   numbers         543 non-null    float64\n",
      " 8   Score_B.1       543 non-null    float64\n",
      " 9   Risk_C          543 non-null    float64\n",
      " 10  Money_Value     542 non-null    float64\n",
      " 11  Score_MV        543 non-null    float64\n",
      " 12  Risk_D          543 non-null    float64\n",
      " 13  District_Loss   543 non-null    int64  \n",
      " 14  PROB            543 non-null    float64\n",
      " 15  RiSk_E          543 non-null    float64\n",
      " 16  History         543 non-null    int64  \n",
      " 17  Prob            543 non-null    float64\n",
      " 18  Risk_F          543 non-null    float64\n",
      " 19  Score           543 non-null    float64\n",
      " 20  Inherent_Risk   543 non-null    float64\n",
      " 21  CONTROL_RISK    543 non-null    float64\n",
      " 22  Detection_Risk  543 non-null    float64\n",
      " 23  Audit_Risk      543 non-null    float64\n",
      "dtypes: float64(22), int64(2)\n",
      "memory usage: 106.1 KB\n"
     ]
    }
   ],
   "source": [
    "#check for missing values\n",
    "X_train.info()"
   ]
  },
  {
   "cell_type": "code",
   "execution_count": 280,
   "id": "bbc9891f",
   "metadata": {},
   "outputs": [
    {
     "data": {
      "text/plain": [
       "Sector_score      False\n",
       "PARA_A            False\n",
       "Score_A           False\n",
       "Risk_A            False\n",
       "PARA_B            False\n",
       "Score_B           False\n",
       "Risk_B            False\n",
       "numbers           False\n",
       "Score_B.1         False\n",
       "Risk_C            False\n",
       "Money_Value        True\n",
       "Score_MV          False\n",
       "Risk_D            False\n",
       "District_Loss     False\n",
       "PROB              False\n",
       "RiSk_E            False\n",
       "History           False\n",
       "Prob              False\n",
       "Risk_F            False\n",
       "Score             False\n",
       "Inherent_Risk     False\n",
       "CONTROL_RISK      False\n",
       "Detection_Risk    False\n",
       "Audit_Risk        False\n",
       "Risk              False\n",
       "dtype: bool"
      ]
     },
     "execution_count": 280,
     "metadata": {},
     "output_type": "execute_result"
    }
   ],
   "source": [
    "data.isnull().any()"
   ]
  },
  {
   "cell_type": "code",
   "execution_count": 285,
   "id": "5317c714",
   "metadata": {},
   "outputs": [],
   "source": [
    "# fill the missing value \n",
    "data=data.fillna(method='ffill')"
   ]
  },
  {
   "cell_type": "code",
   "execution_count": 287,
   "id": "f3b27083",
   "metadata": {},
   "outputs": [],
   "source": [
    "scale=StandardScaler()\n",
    "X_train_scaled=scale.fit_transform(X_train)\n",
    "X_test_scaled=scale.fit_transform(X_test)\n"
   ]
  },
  {
   "cell_type": "code",
   "execution_count": 288,
   "id": "ff4312e4",
   "metadata": {},
   "outputs": [
    {
     "data": {
      "text/plain": [
       "(543, 24)"
      ]
     },
     "execution_count": 288,
     "metadata": {},
     "output_type": "execute_result"
    }
   ],
   "source": [
    "X_train.shape"
   ]
  },
  {
   "cell_type": "code",
   "execution_count": 289,
   "id": "d6058621",
   "metadata": {},
   "outputs": [],
   "source": [
    "#convert the target into a numpy array\n",
    "m=np.array(y_train)\n",
    "y_t=np.array(y_test)"
   ]
  },
  {
   "cell_type": "code",
   "execution_count": 124,
   "id": "3beb594b",
   "metadata": {},
   "outputs": [
    {
     "data": {
      "text/plain": [
       "(543,)"
      ]
     },
     "execution_count": 124,
     "metadata": {},
     "output_type": "execute_result"
    }
   ],
   "source": [
    "m.shape"
   ]
  },
  {
   "cell_type": "markdown",
   "id": "6e35c433",
   "metadata": {},
   "source": [
    " # Perform stratified cross-validation on the training and validation set"
   ]
  },
  {
   "cell_type": "code",
   "execution_count": 292,
   "id": "1a4626cb",
   "metadata": {},
   "outputs": [],
   "source": [
    "\"\"\" The cells stratified cross-validation using sklearn default parameters\"\"\"\n",
    "regressor=RandomForestClassifier()\n",
    "skf = StratifiedKFold()\n",
    "list_acc=[] # empty list to store all the possible accuracies \n",
    "\n",
    "# the for loop iterate over all the splits and fit each one to regressor model\n",
    "for train_index, test_index in skf.split(X_train_s,m):\n",
    "    x_train_fold, x_test_fold =X_train_s[train_index], X_train_s[test_index]\n",
    "    y_train_fold, y_test_fold = m[train_index], m[test_index]\n",
    "    regressor.fit(x_train_fold, y_train_fold)    # fitting data\n",
    "    list_acc.append(regressor.score(x_test_fold, y_test_fold)) # add to the list created above"
   ]
  },
  {
   "cell_type": "code",
   "execution_count": 295,
   "id": "6b379fef",
   "metadata": {},
   "outputs": [
    {
     "name": "stdout",
     "output_type": "stream",
     "text": [
      "list: [1.0, 1.0, 0.9908256880733946, 1.0, 1.0]\n",
      "\n",
      "Maximum accuracy: 100.0 %\n",
      "\n",
      "Minimum Accuracy: 99.08256880733946 %\n",
      "\n",
      "mean: 99.81651376146789 %\n",
      "\n",
      "Standard Deviation is: 0.004102877022935369\n",
      "precison: 0.3948497854077253\n",
      "recall: 1.0\n"
     ]
    }
   ],
   "source": [
    "\n",
    "# Print the output.\n",
    "\n",
    "predics=rg.predict(X_test)\n",
    "print('list:', list_acc)\n",
    "print('\\nMaximum accuracy:',\n",
    "      max(list_acc)*100, '%')\n",
    "print('\\nMinimum Accuracy:',\n",
    "      min(list_acc)*100, '%')\n",
    "print('\\nmean:',\n",
    "      mean(list_acc)*100, '%')\n",
    "print('\\nStandard Deviation is:', stdev(co))\n",
    "precision=precision_score(y_test,predics)\n",
    "print('precison:',precision)\n",
    "rec = recall_score(y_test,predics)\n",
    "print('recall:',rec)"
   ]
  },
  {
   "cell_type": "markdown",
   "id": "bfa07b5a",
   "metadata": {},
   "source": [
    "# 5. Do grid search 10-fold cross-validation to tune the hyperparameters of the random forest."
   ]
  },
  {
   "cell_type": "code",
   "execution_count": 299,
   "id": "cbd2762e",
   "metadata": {},
   "outputs": [
    {
     "data": {
      "text/plain": [
       "['mean_fit_time',\n",
       " 'mean_score_time',\n",
       " 'mean_test_score',\n",
       " 'param_max_depth',\n",
       " 'param_n_estimators',\n",
       " 'param_random_state',\n",
       " 'params',\n",
       " 'rank_test_score',\n",
       " 'split0_test_score',\n",
       " 'split1_test_score',\n",
       " 'split2_test_score',\n",
       " 'split3_test_score',\n",
       " 'split4_test_score',\n",
       " 'split5_test_score',\n",
       " 'split6_test_score',\n",
       " 'split7_test_score',\n",
       " 'split8_test_score',\n",
       " 'split9_test_score',\n",
       " 'std_fit_time',\n",
       " 'std_score_time',\n",
       " 'std_test_score']"
      ]
     },
     "execution_count": 299,
     "metadata": {},
     "output_type": "execute_result"
    }
   ],
   "source": [
    "\"\"\"using the sklearn GridSearchCV function,we search for best hyperparameters from a given list\"\"\"\n",
    "\n",
    "reg_model = RandomForestClassifier()\n",
    "params={'random_state':[randint(1,150)],\n",
    "       'n_estimators':[randint(1,8000)],\n",
    "       'max_depth':[randint(1,1000)]}\n",
    "rf_random = GridSearchCV(estimator = reg_model, param_grid = params,cv = 10,scoring='accuracy')\n",
    "rf=rf_random.fit(X_train, y_train)\n",
    "sorted(rf.cv_results_.keys())"
   ]
  },
  {
   "cell_type": "code",
   "execution_count": 300,
   "id": "f19b4ae2",
   "metadata": {},
   "outputs": [
    {
     "data": {
      "text/plain": [
       "{'max_depth': 544, 'n_estimators': 5193, 'random_state': 70}"
      ]
     },
     "execution_count": 300,
     "metadata": {},
     "output_type": "execute_result"
    }
   ],
   "source": [
    "#print the best parameters\n",
    "rf.best_params_"
   ]
  },
  {
   "cell_type": "code",
   "execution_count": 301,
   "id": "e80b6ac3",
   "metadata": {},
   "outputs": [
    {
     "data": {
      "text/plain": [
       "RandomForestClassifier(max_depth=544, n_estimators=5193, random_state=70)"
      ]
     },
     "execution_count": 301,
     "metadata": {},
     "output_type": "execute_result"
    }
   ],
   "source": [
    "nr=RandomForestClassifier(max_depth=544,n_estimators= 5193,random_state= 70)\n",
    "nr.fit(X_train,y_train)"
   ]
  },
  {
   "cell_type": "code",
   "execution_count": 302,
   "id": "d851375d",
   "metadata": {},
   "outputs": [
    {
     "data": {
      "text/plain": [
       "1.0"
      ]
     },
     "execution_count": 302,
     "metadata": {},
     "output_type": "execute_result"
    }
   ],
   "source": [
    "ip=nr.predict(X_test)\n",
    "accuracy_score(y_test,ip)"
   ]
  },
  {
   "cell_type": "code",
   "execution_count": 229,
   "id": "f5c3237a",
   "metadata": {},
   "outputs": [],
   "source": [
    "rg = RandomForestClassifier()\n",
    "list_acc1=[]\n",
    "for train_index, test_index in skf.split(X_train,y_train):\n",
    "    x_train_fold, x_test_fold =X_train_s[train_index], X_train_s[test_index]\n",
    "    y_train_fold, y_test_fold = m[train_index], m[test_index]\n",
    "    rg.fit(x_train_fold, y_train_fold)\n",
    "    list_acc1.append(rg.score(x_test_fold, y_test_fold))"
   ]
  },
  {
   "cell_type": "code",
   "execution_count": 265,
   "id": "46552876",
   "metadata": {},
   "outputs": [
    {
     "name": "stdout",
     "output_type": "stream",
     "text": [
      "list: [1.0, 1.0, 0.9908256880733946, 1.0, 1.0]\n",
      "\n",
      "Maximum accuracy: 100.0 %\n",
      "\n",
      "Minimum Accuracy: 99.08256880733946 %\n",
      "\n",
      "Avarage: 99.81651376146789 %\n",
      "\n",
      "Standard Deviation is: 0.004102877022935369\n"
     ]
    }
   ],
   "source": [
    "predics=rg.predict(X_test)\n",
    "print('list:', list_acc1)\n",
    "print('\\nMaximum accuracy:',\n",
    "      max(list_acc1)*100, '%')\n",
    "print('\\nMinimum Accuracy:',\n",
    "      min(list_acc1)*100, '%')\n",
    "print('\\nAvarage:',\n",
    "      mean(list_acc1)*100, '%')\n",
    "print('\\nStandard Deviation is:', stdev(list_acc1))\n",
    "\n",
    "sd=stdev(list_acc1)\n",
    "accuracy=mean(list_acc1)*100\n",
    "mean_m=mean(list_acc1)\n",
    "precision=precision_score(y_test,predics)\n",
    "rec = recall_score(y_test,predics)\n",
    "outcome = pd.DataFrame([['RandomForestClassifier',accuracy,precision,rec,mean_m,sd]],\n",
    "               columns = ['Model', 'Accuracy', 'Precision', 'Recall','mean','Standard Deviation'])\n"
   ]
  },
  {
   "cell_type": "code",
   "execution_count": 256,
   "id": "0e108a85",
   "metadata": {},
   "outputs": [
    {
     "data": {
      "text/html": [
       "<div>\n",
       "<style scoped>\n",
       "    .dataframe tbody tr th:only-of-type {\n",
       "        vertical-align: middle;\n",
       "    }\n",
       "\n",
       "    .dataframe tbody tr th {\n",
       "        vertical-align: top;\n",
       "    }\n",
       "\n",
       "    .dataframe thead th {\n",
       "        text-align: right;\n",
       "    }\n",
       "</style>\n",
       "<table border=\"1\" class=\"dataframe\">\n",
       "  <thead>\n",
       "    <tr style=\"text-align: right;\">\n",
       "      <th></th>\n",
       "      <th>Model</th>\n",
       "      <th>Accuracy</th>\n",
       "      <th>Precision</th>\n",
       "      <th>Recall</th>\n",
       "      <th>mean</th>\n",
       "      <th>Standard Deviation</th>\n",
       "    </tr>\n",
       "  </thead>\n",
       "  <tbody>\n",
       "    <tr>\n",
       "      <th>0</th>\n",
       "      <td>RandomForestClassifier</td>\n",
       "      <td>99.816514</td>\n",
       "      <td>0.39485</td>\n",
       "      <td>1.0</td>\n",
       "      <td>0.998165</td>\n",
       "      <td>0.004103</td>\n",
       "    </tr>\n",
       "  </tbody>\n",
       "</table>\n",
       "</div>"
      ],
      "text/plain": [
       "                    Model   Accuracy  Precision  Recall      mean  \\\n",
       "0  RandomForestClassifier  99.816514    0.39485     1.0  0.998165   \n",
       "\n",
       "   Standard Deviation  \n",
       "0            0.004103  "
      ]
     },
     "execution_count": 256,
     "metadata": {},
     "output_type": "execute_result"
    }
   ],
   "source": [
    "outcome"
   ]
  },
  {
   "cell_type": "markdown",
   "id": "9bedcdf0",
   "metadata": {},
   "source": [
    "# 6. Choose another 2 algorithms that are appropriate for the problem"
   ]
  },
  {
   "cell_type": "code",
   "execution_count": 191,
   "id": "01166d46",
   "metadata": {},
   "outputs": [],
   "source": [
    "scale=StandardScaler()\n",
    "X_train_s=scale.fit_transform(X_train)\n",
    "X_test_s=scale.fit_transform(X_test)"
   ]
  },
  {
   "cell_type": "markdown",
   "id": "65378f41",
   "metadata": {},
   "source": [
    "# 6(a) LogisticRegression model "
   ]
  },
  {
   "cell_type": "code",
   "execution_count": 189,
   "id": "6800e1a5",
   "metadata": {},
   "outputs": [
    {
     "data": {
      "text/plain": [
       "LogisticRegression()"
      ]
     },
     "execution_count": 189,
     "metadata": {},
     "output_type": "execute_result"
    }
   ],
   "source": [
    "#baseline model\n",
    "lg=LogisticRegression()\n",
    "lg.fit(X_train_s,y_train)"
   ]
  },
  {
   "cell_type": "code",
   "execution_count": 190,
   "id": "e3360c30",
   "metadata": {},
   "outputs": [
    {
     "data": {
      "text/plain": [
       "0.648068669527897"
      ]
     },
     "execution_count": 190,
     "metadata": {},
     "output_type": "execute_result"
    }
   ],
   "source": [
    "pre=lg.predict(X_test)\n",
    "accuracy_score(y_test,pre)"
   ]
  },
  {
   "cell_type": "code",
   "execution_count": 193,
   "id": "7b119e2c",
   "metadata": {},
   "outputs": [],
   "source": [
    "\"\"\"performing grid search fro logistic regression\"\"\"\n",
    "\n",
    "lg=LogisticRegression()\n",
    "params={'solver':['newton-cg','liblinear','lbfgs'],\n",
    "       'C':[0.01,0.5,1,0.02,0.7],\n",
    "       'max_iter':[randint(500,3000)],\n",
    "       'random_state':[randint(50,300)]}\n",
    "lg_random = GridSearchCV(estimator =lg, param_grid = params,cv = 10,scoring='accuracy')\n",
    "lg_m=lg_random.fit(X_train_s, y_train)"
   ]
  },
  {
   "cell_type": "code",
   "execution_count": 194,
   "id": "43476d50",
   "metadata": {},
   "outputs": [
    {
     "data": {
      "text/plain": [
       "{'C': 1, 'max_iter': 2486, 'random_state': 164, 'solver': 'liblinear'}"
      ]
     },
     "execution_count": 194,
     "metadata": {},
     "output_type": "execute_result"
    }
   ],
   "source": [
    "#get the best hyperparamter values\n",
    "lg_m.best_params_"
   ]
  },
  {
   "cell_type": "code",
   "execution_count": 196,
   "id": "1f99cb2f",
   "metadata": {},
   "outputs": [
    {
     "data": {
      "text/plain": [
       "0.6523605150214592"
      ]
     },
     "execution_count": 196,
     "metadata": {},
     "output_type": "execute_result"
    }
   ],
   "source": [
    "lg_m.score(X_test,y_test)"
   ]
  },
  {
   "cell_type": "code",
   "execution_count": 258,
   "id": "4b4c4e84",
   "metadata": {},
   "outputs": [],
   "source": [
    "\n",
    "linear=LogisticRegression(C=1, max_iter= 2486, random_state= 164, solver='liblinear')\n",
    "list_acc2=[]\n",
    "for train_index, test_index in skf.split(X_train_s,y_train):\n",
    "    x_train_fold, x_test_fold =X_train_s[train_index], X_train_s[test_index]\n",
    "    y_train_fold, y_test_fold = m[train_index], m[test_index]\n",
    "    linear.fit(x_train_fold, y_train_fold)\n",
    "    list_acc2.append(linear.score(x_test_fold, y_test_fold))"
   ]
  },
  {
   "cell_type": "code",
   "execution_count": 266,
   "id": "bb81b3a1",
   "metadata": {},
   "outputs": [
    {
     "name": "stdout",
     "output_type": "stream",
     "text": [
      "list: [0.9724770642201835, 0.944954128440367, 0.9908256880733946, 0.9814814814814815, 0.9907407407407407]\n",
      "\n",
      "Maximum accuracy: 99.08256880733946 %\n",
      "\n",
      "Minimum Accuracy: 94.4954128440367 %\n",
      "\n",
      "mean: 97.60958205912334 %\n",
      "\n",
      "Standard Deviation is: 0.004102877022935369\n"
     ]
    },
    {
     "data": {
      "text/html": [
       "<div>\n",
       "<style scoped>\n",
       "    .dataframe tbody tr th:only-of-type {\n",
       "        vertical-align: middle;\n",
       "    }\n",
       "\n",
       "    .dataframe tbody tr th {\n",
       "        vertical-align: top;\n",
       "    }\n",
       "\n",
       "    .dataframe thead th {\n",
       "        text-align: right;\n",
       "    }\n",
       "</style>\n",
       "<table border=\"1\" class=\"dataframe\">\n",
       "  <thead>\n",
       "    <tr style=\"text-align: right;\">\n",
       "      <th></th>\n",
       "      <th>Model</th>\n",
       "      <th>Accuracy</th>\n",
       "      <th>Precision</th>\n",
       "      <th>Recall</th>\n",
       "      <th>mean</th>\n",
       "      <th>Standard Deviation</th>\n",
       "    </tr>\n",
       "  </thead>\n",
       "  <tbody>\n",
       "    <tr>\n",
       "      <th>0</th>\n",
       "      <td>RandomForestClassifier</td>\n",
       "      <td>99.816514</td>\n",
       "      <td>0.394850</td>\n",
       "      <td>1.000000</td>\n",
       "      <td>0.998165</td>\n",
       "      <td>0.004103</td>\n",
       "    </tr>\n",
       "    <tr>\n",
       "      <th>1</th>\n",
       "      <td>LogisticRegression</td>\n",
       "      <td>97.609582</td>\n",
       "      <td>0.956989</td>\n",
       "      <td>0.967391</td>\n",
       "      <td>0.976096</td>\n",
       "      <td>0.018996</td>\n",
       "    </tr>\n",
       "  </tbody>\n",
       "</table>\n",
       "</div>"
      ],
      "text/plain": [
       "                    Model   Accuracy  Precision    Recall      mean  \\\n",
       "0  RandomForestClassifier  99.816514   0.394850  1.000000  0.998165   \n",
       "1      LogisticRegression  97.609582   0.956989  0.967391  0.976096   \n",
       "\n",
       "   Standard Deviation  \n",
       "0            0.004103  \n",
       "1            0.018996  "
      ]
     },
     "execution_count": 266,
     "metadata": {},
     "output_type": "execute_result"
    }
   ],
   "source": [
    "predics=linear.predict(X_test_s)\n",
    "\n",
    "print('list:', list_acc2)\n",
    "print('\\nMaximum accuracy:',\n",
    "      max(list_acc2)*100, '%')\n",
    "print('\\nMinimum Accuracy:',\n",
    "      min(list_acc2)*100, '%')\n",
    "print('\\nmean:',\n",
    "      mean(list_acc2)*100, '%')\n",
    "print('\\nStandard Deviation is:', stdev(co))\n",
    "\n",
    "sd=stdev(list_acc2)\n",
    "accuracy=mean(list_acc2)*100\n",
    "mean_m=mean(list_acc2)\n",
    "precision=precision_score(y_test,predics)\n",
    "rec = recall_score(y_test,predics)\n",
    "\n",
    "outcome_m = pd.DataFrame([['LogisticRegression',accuracy,precision,rec,mean_m,sd]],\n",
    "               columns = ['Model', 'Accuracy', 'Precision', 'Recall','mean','Standard Deviation'])\n",
    "outcome =outcome.append(outcome_m, ignore_index = True)\n",
    "outcome"
   ]
  },
  {
   "cell_type": "code",
   "execution_count": 260,
   "id": "e79b8b88",
   "metadata": {},
   "outputs": [
    {
     "data": {
      "text/plain": [
       "0.9699570815450643"
      ]
     },
     "execution_count": 260,
     "metadata": {},
     "output_type": "execute_result"
    }
   ],
   "source": [
    "pre=linear.predict(X_test_s)\n",
    "accuracy_score(y_test,pre)"
   ]
  },
  {
   "cell_type": "markdown",
   "id": "95ddedc7",
   "metadata": {},
   "source": [
    "# 6(b) Support Vector Machine"
   ]
  },
  {
   "cell_type": "code",
   "execution_count": 218,
   "id": "92144e94",
   "metadata": {},
   "outputs": [
    {
     "data": {
      "text/plain": [
       "SVC()"
      ]
     },
     "execution_count": 218,
     "metadata": {},
     "output_type": "execute_result"
    }
   ],
   "source": [
    "Svm_model=SVC()\n",
    "Svm_model.fit(X_train,y_train)"
   ]
  },
  {
   "cell_type": "code",
   "execution_count": 207,
   "id": "cbeb247f",
   "metadata": {},
   "outputs": [
    {
     "data": {
      "text/plain": [
       "0.6094420600858369"
      ]
     },
     "execution_count": 207,
     "metadata": {},
     "output_type": "execute_result"
    }
   ],
   "source": [
    "pre=Svm_model.predict(X_test_s)\n",
    "accuracy_score(y_test,pre)"
   ]
  },
  {
   "cell_type": "code",
   "execution_count": 248,
   "id": "8b85ced0",
   "metadata": {},
   "outputs": [],
   "source": [
    "l=SVC()\n",
    "params={\n",
    "       'C':[0.01,0.5,1,10,10,100],\n",
    "       'gamma':[1,0.1,0.01,0.001,],\n",
    "       'kernel':['rbf','linear']}\n",
    "svm_random = GridSearchCV(estimator =l, param_grid = params,cv = 10,scoring='accuracy')\n",
    "svm_m=svm_random.fit(X_train_s, y_train)"
   ]
  },
  {
   "cell_type": "code",
   "execution_count": 249,
   "id": "80c26016",
   "metadata": {},
   "outputs": [
    {
     "data": {
      "text/plain": [
       "{'C': 100, 'gamma': 1, 'kernel': 'linear'}"
      ]
     },
     "execution_count": 249,
     "metadata": {},
     "output_type": "execute_result"
    }
   ],
   "source": [
    "svm_m.best_params_"
   ]
  },
  {
   "cell_type": "code",
   "execution_count": 251,
   "id": "214e804e",
   "metadata": {},
   "outputs": [
    {
     "data": {
      "text/plain": [
       "0.9184549356223176"
      ]
     },
     "execution_count": 251,
     "metadata": {},
     "output_type": "execute_result"
    }
   ],
   "source": [
    "svm_m.score(X_test_s,y_test)"
   ]
  },
  {
   "cell_type": "code",
   "execution_count": 262,
   "id": "25918747",
   "metadata": {},
   "outputs": [],
   "source": [
    "svm_model=SVC(C=100,gamma=1,kernel='linear')\n",
    "list_acc3=[]\n",
    "for train_index, test_index in skf.split(X_train_s,y_train):\n",
    "    x_train_fold, x_test_fold =X_train_s[train_index], X_train_s[test_index]\n",
    "    y_train_fold, y_test_fold = m[train_index], m[test_index]\n",
    "    svm_model.fit(x_train_fold, y_train_fold)\n",
    "    list_acc3.append(svm_model.score(x_test_fold, y_test_fold))"
   ]
  },
  {
   "cell_type": "code",
   "execution_count": 267,
   "id": "83af2f83",
   "metadata": {},
   "outputs": [
    {
     "name": "stdout",
     "output_type": "stream",
     "text": [
      "list: [0.981651376146789, 0.981651376146789, 1.0, 1.0, 0.9907407407407407]\n",
      "\n",
      "Maximum accuracy: 100.0 %\n",
      "\n",
      "Minimum Accuracy: 98.1651376146789 %\n",
      "\n",
      "mean: 99.08086986068638 %\n",
      "\n",
      "Standard Deviation is: 0.004102877022935369\n"
     ]
    },
    {
     "data": {
      "text/html": [
       "<div>\n",
       "<style scoped>\n",
       "    .dataframe tbody tr th:only-of-type {\n",
       "        vertical-align: middle;\n",
       "    }\n",
       "\n",
       "    .dataframe tbody tr th {\n",
       "        vertical-align: top;\n",
       "    }\n",
       "\n",
       "    .dataframe thead th {\n",
       "        text-align: right;\n",
       "    }\n",
       "</style>\n",
       "<table border=\"1\" class=\"dataframe\">\n",
       "  <thead>\n",
       "    <tr style=\"text-align: right;\">\n",
       "      <th></th>\n",
       "      <th>Model</th>\n",
       "      <th>Accuracy</th>\n",
       "      <th>Precision</th>\n",
       "      <th>Recall</th>\n",
       "      <th>mean</th>\n",
       "      <th>Standard Deviation</th>\n",
       "    </tr>\n",
       "  </thead>\n",
       "  <tbody>\n",
       "    <tr>\n",
       "      <th>0</th>\n",
       "      <td>RandomForestClassifier</td>\n",
       "      <td>99.816514</td>\n",
       "      <td>0.394850</td>\n",
       "      <td>1.000000</td>\n",
       "      <td>0.998165</td>\n",
       "      <td>0.004103</td>\n",
       "    </tr>\n",
       "    <tr>\n",
       "      <th>1</th>\n",
       "      <td>LogisticRegression</td>\n",
       "      <td>97.609582</td>\n",
       "      <td>0.956989</td>\n",
       "      <td>0.967391</td>\n",
       "      <td>0.976096</td>\n",
       "      <td>0.018996</td>\n",
       "    </tr>\n",
       "    <tr>\n",
       "      <th>2</th>\n",
       "      <td>svm</td>\n",
       "      <td>99.080870</td>\n",
       "      <td>0.900990</td>\n",
       "      <td>0.989130</td>\n",
       "      <td>0.990809</td>\n",
       "      <td>0.009174</td>\n",
       "    </tr>\n",
       "  </tbody>\n",
       "</table>\n",
       "</div>"
      ],
      "text/plain": [
       "                    Model   Accuracy  Precision    Recall      mean  \\\n",
       "0  RandomForestClassifier  99.816514   0.394850  1.000000  0.998165   \n",
       "1      LogisticRegression  97.609582   0.956989  0.967391  0.976096   \n",
       "2                     svm  99.080870   0.900990  0.989130  0.990809   \n",
       "\n",
       "   Standard Deviation  \n",
       "0            0.004103  \n",
       "1            0.018996  \n",
       "2            0.009174  "
      ]
     },
     "execution_count": 267,
     "metadata": {},
     "output_type": "execute_result"
    }
   ],
   "source": [
    "predics=svm_model.predict(X_test_s)\n",
    "\n",
    "print('list:', list_acc3)\n",
    "print('\\nMaximum accuracy:',\n",
    "      max(list_acc3)*100, '%')\n",
    "print('\\nMinimum Accuracy:',\n",
    "      min(list_acc3)*100, '%')\n",
    "print('\\nmean:',\n",
    "      mean(list_acc3)*100, '%')\n",
    "print('\\nStandard Deviation is:', stdev(co))\n",
    "\n",
    "sd=stdev(list_acc3)\n",
    "accuracy=mean(list_acc3)*100\n",
    "mean_m=mean(list_acc3)\n",
    "precision=precision_score(y_test,predics)\n",
    "rec = recall_score(y_test,predics)\n",
    "\n",
    "outcome_s = pd.DataFrame([['svm',accuracy,precision,rec,mean_m,sd]],\n",
    "               columns = ['Model', 'Accuracy', 'Precision', 'Recall','mean','Standard Deviation'])\n",
    "outcome =outcome.append(outcome_s, ignore_index = True)\n",
    "outcome"
   ]
  },
  {
   "cell_type": "code",
   "execution_count": null,
   "id": "324a5d91",
   "metadata": {},
   "outputs": [],
   "source": []
  },
  {
   "cell_type": "code",
   "execution_count": null,
   "id": "30f117c1",
   "metadata": {},
   "outputs": [],
   "source": []
  }
 ],
 "metadata": {
  "kernelspec": {
   "display_name": "Python 3 (ipykernel)",
   "language": "python",
   "name": "python3"
  },
  "language_info": {
   "codemirror_mode": {
    "name": "ipython",
    "version": 3
   },
   "file_extension": ".py",
   "mimetype": "text/x-python",
   "name": "python",
   "nbconvert_exporter": "python",
   "pygments_lexer": "ipython3",
   "version": "3.9.7"
  }
 },
 "nbformat": 4,
 "nbformat_minor": 5
}
